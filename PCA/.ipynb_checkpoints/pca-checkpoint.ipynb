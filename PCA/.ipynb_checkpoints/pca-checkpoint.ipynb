{
 "cells": [
  {
   "cell_type": "code",
   "execution_count": 1,
   "metadata": {
    "ExecuteTime": {
     "end_time": "2022-04-20T15:06:48.969269Z",
     "start_time": "2022-04-20T15:06:47.700289Z"
    }
   },
   "outputs": [],
   "source": [
    "import matplotlib.pyplot as plt\n",
    "import numpy as np\n",
    "import pandas as pd\n",
    "import seaborn as sns\n",
    "sns.set_theme()"
   ]
  },
  {
   "cell_type": "code",
   "execution_count": 2,
   "metadata": {
    "ExecuteTime": {
     "end_time": "2022-04-20T15:06:49.027981Z",
     "start_time": "2022-04-20T15:06:48.970988Z"
    }
   },
   "outputs": [
    {
     "data": {
      "text/html": [
       "<div>\n",
       "<style scoped>\n",
       "    .dataframe tbody tr th:only-of-type {\n",
       "        vertical-align: middle;\n",
       "    }\n",
       "\n",
       "    .dataframe tbody tr th {\n",
       "        vertical-align: top;\n",
       "    }\n",
       "\n",
       "    .dataframe thead th {\n",
       "        text-align: right;\n",
       "    }\n",
       "</style>\n",
       "<table border=\"1\" class=\"dataframe\">\n",
       "  <thead>\n",
       "    <tr style=\"text-align: right;\">\n",
       "      <th></th>\n",
       "      <th>species</th>\n",
       "      <th>island</th>\n",
       "      <th>bill_length_mm</th>\n",
       "      <th>bill_depth_mm</th>\n",
       "      <th>flipper_length_mm</th>\n",
       "      <th>body_mass_g</th>\n",
       "      <th>sex</th>\n",
       "    </tr>\n",
       "  </thead>\n",
       "  <tbody>\n",
       "    <tr>\n",
       "      <th>0</th>\n",
       "      <td>Adelie</td>\n",
       "      <td>Torgersen</td>\n",
       "      <td>39.1</td>\n",
       "      <td>18.7</td>\n",
       "      <td>181.0</td>\n",
       "      <td>3750.0</td>\n",
       "      <td>MALE</td>\n",
       "    </tr>\n",
       "    <tr>\n",
       "      <th>1</th>\n",
       "      <td>Adelie</td>\n",
       "      <td>Torgersen</td>\n",
       "      <td>39.5</td>\n",
       "      <td>17.4</td>\n",
       "      <td>186.0</td>\n",
       "      <td>3800.0</td>\n",
       "      <td>FEMALE</td>\n",
       "    </tr>\n",
       "    <tr>\n",
       "      <th>2</th>\n",
       "      <td>Adelie</td>\n",
       "      <td>Torgersen</td>\n",
       "      <td>40.3</td>\n",
       "      <td>18.0</td>\n",
       "      <td>195.0</td>\n",
       "      <td>3250.0</td>\n",
       "      <td>FEMALE</td>\n",
       "    </tr>\n",
       "    <tr>\n",
       "      <th>4</th>\n",
       "      <td>Adelie</td>\n",
       "      <td>Torgersen</td>\n",
       "      <td>36.7</td>\n",
       "      <td>19.3</td>\n",
       "      <td>193.0</td>\n",
       "      <td>3450.0</td>\n",
       "      <td>FEMALE</td>\n",
       "    </tr>\n",
       "    <tr>\n",
       "      <th>5</th>\n",
       "      <td>Adelie</td>\n",
       "      <td>Torgersen</td>\n",
       "      <td>39.3</td>\n",
       "      <td>20.6</td>\n",
       "      <td>190.0</td>\n",
       "      <td>3650.0</td>\n",
       "      <td>MALE</td>\n",
       "    </tr>\n",
       "  </tbody>\n",
       "</table>\n",
       "</div>"
      ],
      "text/plain": [
       "  species     island  bill_length_mm  bill_depth_mm  flipper_length_mm  \\\n",
       "0  Adelie  Torgersen            39.1           18.7              181.0   \n",
       "1  Adelie  Torgersen            39.5           17.4              186.0   \n",
       "2  Adelie  Torgersen            40.3           18.0              195.0   \n",
       "4  Adelie  Torgersen            36.7           19.3              193.0   \n",
       "5  Adelie  Torgersen            39.3           20.6              190.0   \n",
       "\n",
       "   body_mass_g     sex  \n",
       "0       3750.0    MALE  \n",
       "1       3800.0  FEMALE  \n",
       "2       3250.0  FEMALE  \n",
       "4       3450.0  FEMALE  \n",
       "5       3650.0    MALE  "
      ]
     },
     "execution_count": 2,
     "metadata": {},
     "output_type": "execute_result"
    }
   ],
   "source": [
    "df = pd.read_csv('penguins.csv')\n",
    "df = df.dropna()\n",
    "df.head()"
   ]
  },
  {
   "cell_type": "code",
   "execution_count": 3,
   "metadata": {
    "ExecuteTime": {
     "end_time": "2022-04-20T15:06:49.034312Z",
     "start_time": "2022-04-20T15:06:49.029943Z"
    }
   },
   "outputs": [
    {
     "data": {
      "text/plain": [
       "(333, 7)"
      ]
     },
     "execution_count": 3,
     "metadata": {},
     "output_type": "execute_result"
    }
   ],
   "source": [
    "df.shape"
   ]
  },
  {
   "cell_type": "code",
   "execution_count": 4,
   "metadata": {
    "ExecuteTime": {
     "end_time": "2022-04-20T15:06:49.040774Z",
     "start_time": "2022-04-20T15:06:49.036666Z"
    }
   },
   "outputs": [],
   "source": [
    "X = df.filter(['bill_length_mm', 'bill_depth_mm', 'flipper_length_mm', 'body_mass_g'], axis=1).to_numpy()\n",
    "y = df['species'].to_numpy()"
   ]
  },
  {
   "cell_type": "code",
   "execution_count": 5,
   "metadata": {
    "ExecuteTime": {
     "end_time": "2022-04-20T15:06:49.049706Z",
     "start_time": "2022-04-20T15:06:49.043835Z"
    }
   },
   "outputs": [
    {
     "data": {
      "text/plain": [
       "array([[  39.1,   18.7,  181. , 3750. ],\n",
       "       [  39.5,   17.4,  186. , 3800. ],\n",
       "       [  40.3,   18. ,  195. , 3250. ],\n",
       "       ...,\n",
       "       [  50.4,   15.7,  222. , 5750. ],\n",
       "       [  45.2,   14.8,  212. , 5200. ],\n",
       "       [  49.9,   16.1,  213. , 5400. ]])"
      ]
     },
     "execution_count": 5,
     "metadata": {},
     "output_type": "execute_result"
    }
   ],
   "source": [
    "X"
   ]
  },
  {
   "cell_type": "code",
   "execution_count": 6,
   "metadata": {
    "ExecuteTime": {
     "end_time": "2022-04-20T15:06:49.056939Z",
     "start_time": "2022-04-20T15:06:49.052255Z"
    }
   },
   "outputs": [
    {
     "name": "stdout",
     "output_type": "stream",
     "text": [
      "np.shape(U) = (333, 4)\n",
      "np.shape(sigma) = (4,)\n",
      "np.shape(Vt) = (4, 4) \n",
      "\n"
     ]
    }
   ],
   "source": [
    "A = X - X.mean(axis = 0)\n",
    "U, sigma, Vt = np.linalg.svd(A, full_matrices=False)\n",
    "print(f\"np.shape(U) = {np.shape(U)}\")\n",
    "print(f\"np.shape(sigma) = {np.shape(sigma)}\")\n",
    "print(f\"np.shape(Vt) = {np.shape(Vt)} \\n\")"
   ]
  },
  {
   "cell_type": "code",
   "execution_count": 7,
   "metadata": {
    "ExecuteTime": {
     "end_time": "2022-04-20T15:06:49.063351Z",
     "start_time": "2022-04-20T15:06:49.059209Z"
    }
   },
   "outputs": [
    {
     "name": "stdout",
     "output_type": "stream",
     "text": [
      "A == U * sigma_mat * Vt: True \n",
      "\n"
     ]
    }
   ],
   "source": [
    "sigma_mat = np.diag(sigma)\n",
    "print(f\"A == U * sigma_mat * Vt: {np.allclose(A, np.dot(U, np.dot(sigma_mat, Vt)))} \\n\")"
   ]
  },
  {
   "cell_type": "code",
   "execution_count": 8,
   "metadata": {
    "ExecuteTime": {
     "end_time": "2022-04-20T15:06:49.069067Z",
     "start_time": "2022-04-20T15:06:49.065453Z"
    }
   },
   "outputs": [],
   "source": [
    "PC1 = Vt.T[:, 0]\n",
    "PC2 = Vt.T[:, 1]\n",
    "PC3 = Vt.T[:, 2]\n",
    "PC4 = Vt.T[:, 3]\n",
    "\n",
    "W2 = Vt.T[:, :2]\n",
    "X2D = A.dot(W2)"
   ]
  },
  {
   "cell_type": "code",
   "execution_count": 9,
   "metadata": {
    "ExecuteTime": {
     "end_time": "2022-04-20T15:06:49.074456Z",
     "start_time": "2022-04-20T15:06:49.071134Z"
    }
   },
   "outputs": [],
   "source": [
    "def colors(y):\n",
    "    if y == 'Adelie':\n",
    "        return \"blue\"\n",
    "    elif y == 'Chinstrap':\n",
    "        return \"red\"\n",
    "    else:\n",
    "        return \"yellow\"\n",
    "\n",
    "c = [colors(label) for label in y]"
   ]
  },
  {
   "cell_type": "code",
   "execution_count": 10,
   "metadata": {
    "ExecuteTime": {
     "end_time": "2022-04-20T15:06:49.351779Z",
     "start_time": "2022-04-20T15:06:49.077080Z"
    }
   },
   "outputs": [
    {
     "data": {
      "image/png": "[encoded data removed]",
      "text/plain": [
       "<Figure size 720x576 with 1 Axes>"
      ]
     },
     "metadata": {},
     "output_type": "display_data"
    }
   ],
   "source": [
    "plt.figure(figsize = (10, 8))\n",
    "plt.scatter(X2D[:, 0], X2D[:, 1], c = c)\n",
    "plt.xlabel(\"First Principle Component\", fontsize = 15)\n",
    "plt.ylabel(\"Second Principle Component\")\n",
    "plt.show()"
   ]
  },
  {
   "cell_type": "code",
   "execution_count": 11,
   "metadata": {
    "ExecuteTime": {
     "end_time": "2022-04-20T15:06:49.456147Z",
     "start_time": "2022-04-20T15:06:49.353905Z"
    }
   },
   "outputs": [
    {
     "name": "stdout",
     "output_type": "stream",
     "text": [
      "pca.explained_variance_ratio_ = [0.68633893 0.19452929 0.09216063 0.02697115]\n",
      "per_var = [68.63 19.45  9.22  2.7 ] \n",
      "\n"
     ]
    }
   ],
   "source": [
    "from sklearn.decomposition import PCA\n",
    "from sklearn import preprocessing\n",
    "\n",
    "scaled_X = preprocessing.scale(X)\n",
    "pca = PCA()\n",
    "pca.fit(scaled_X)\n",
    "\n",
    "print(f\"pca.explained_variance_ratio_ = {pca.explained_variance_ratio_}\")\n",
    "\n",
    "per_var = np.round(pca.explained_variance_ratio_*100, 2)\n",
    "print(f\"per_var = {per_var} \\n\")"
   ]
  },
  {
   "cell_type": "code",
   "execution_count": 12,
   "metadata": {
    "ExecuteTime": {
     "end_time": "2022-04-20T15:06:49.699784Z",
     "start_time": "2022-04-20T15:06:49.458665Z"
    }
   },
   "outputs": [
    {
     "data": {
      "image/png": "[encoded data removed]",
      "text/plain": [
       "<Figure size 720x576 with 1 Axes>"
      ]
     },
     "metadata": {},
     "output_type": "display_data"
    }
   ],
   "source": [
    "labels = [f\"PC{i}\" for i in range(1,5)]\n",
    "\n",
    "plt.figure(figsize = (10, 8))\n",
    "plt.bar(x = range(1, 5), height = per_var, tick_label = labels)\n",
    "plt.xlabel('Principal Component', fontsize = 15)\n",
    "plt.ylabel('Percentage of Variation', fontsize = 15)\n",
    "plt.title('Scree Plot', fontsize = 15)\n",
    "plt.show()"
   ]
  },
  {
   "cell_type": "code",
   "execution_count": 13,
   "metadata": {
    "ExecuteTime": {
     "end_time": "2022-04-20T15:06:49.716352Z",
     "start_time": "2022-04-20T15:06:49.702707Z"
    }
   },
   "outputs": [
    {
     "data": {
      "text/html": [
       "<div>\n",
       "<style scoped>\n",
       "    .dataframe tbody tr th:only-of-type {\n",
       "        vertical-align: middle;\n",
       "    }\n",
       "\n",
       "    .dataframe tbody tr th {\n",
       "        vertical-align: top;\n",
       "    }\n",
       "\n",
       "    .dataframe thead th {\n",
       "        text-align: right;\n",
       "    }\n",
       "</style>\n",
       "<table border=\"1\" class=\"dataframe\">\n",
       "  <thead>\n",
       "    <tr style=\"text-align: right;\">\n",
       "      <th></th>\n",
       "      <th>PC1</th>\n",
       "      <th>PC2</th>\n",
       "      <th>PC3</th>\n",
       "      <th>PC4</th>\n",
       "    </tr>\n",
       "  </thead>\n",
       "  <tbody>\n",
       "    <tr>\n",
       "      <th>flipper_length_mm</th>\n",
       "      <td>0.453753</td>\n",
       "      <td>-0.399047</td>\n",
       "      <td>0.576825</td>\n",
       "      <td>0.549675</td>\n",
       "    </tr>\n",
       "    <tr>\n",
       "      <th>bill_length_mm</th>\n",
       "      <td>0.600195</td>\n",
       "      <td>0.796170</td>\n",
       "      <td>0.005788</td>\n",
       "      <td>0.076464</td>\n",
       "    </tr>\n",
       "    <tr>\n",
       "      <th>body_mass_g</th>\n",
       "      <td>0.642495</td>\n",
       "      <td>-0.425800</td>\n",
       "      <td>-0.236095</td>\n",
       "      <td>-0.591737</td>\n",
       "    </tr>\n",
       "    <tr>\n",
       "      <th>bill_depth_mm</th>\n",
       "      <td>0.145170</td>\n",
       "      <td>-0.159904</td>\n",
       "      <td>-0.781984</td>\n",
       "      <td>0.584686</td>\n",
       "    </tr>\n",
       "  </tbody>\n",
       "</table>\n",
       "</div>"
      ],
      "text/plain": [
       "                        PC1       PC2       PC3       PC4\n",
       "flipper_length_mm  0.453753 -0.399047  0.576825  0.549675\n",
       "bill_length_mm     0.600195  0.796170  0.005788  0.076464\n",
       "body_mass_g        0.642495 -0.425800 -0.236095 -0.591737\n",
       "bill_depth_mm      0.145170 -0.159904 -0.781984  0.584686"
      ]
     },
     "execution_count": 13,
     "metadata": {},
     "output_type": "execute_result"
    }
   ],
   "source": [
    "features = list(set(df.columns) - {\"species\"} - {\"island\"} - {\"sex\"})\n",
    "pd.DataFrame(data = pca.components_, columns = labels, index = features)"
   ]
  },
  {
   "cell_type": "code",
   "execution_count": 14,
   "metadata": {
    "ExecuteTime": {
     "end_time": "2022-04-20T15:06:49.734360Z",
     "start_time": "2022-04-20T15:06:49.719009Z"
    }
   },
   "outputs": [
    {
     "data": {
      "text/html": [
       "<div>\n",
       "<style scoped>\n",
       "    .dataframe tbody tr th:only-of-type {\n",
       "        vertical-align: middle;\n",
       "    }\n",
       "\n",
       "    .dataframe tbody tr th {\n",
       "        vertical-align: top;\n",
       "    }\n",
       "\n",
       "    .dataframe thead th {\n",
       "        text-align: right;\n",
       "    }\n",
       "</style>\n",
       "<table border=\"1\" class=\"dataframe\">\n",
       "  <thead>\n",
       "    <tr style=\"text-align: right;\">\n",
       "      <th></th>\n",
       "      <th>PC1</th>\n",
       "      <th>PC2</th>\n",
       "      <th>PC3</th>\n",
       "      <th>PC4</th>\n",
       "    </tr>\n",
       "  </thead>\n",
       "  <tbody>\n",
       "    <tr>\n",
       "      <th>0</th>\n",
       "      <td>-1.853593</td>\n",
       "      <td>0.032069</td>\n",
       "      <td>-0.234902</td>\n",
       "      <td>0.528397</td>\n",
       "    </tr>\n",
       "    <tr>\n",
       "      <th>1</th>\n",
       "      <td>-1.316254</td>\n",
       "      <td>-0.443527</td>\n",
       "      <td>-0.027470</td>\n",
       "      <td>0.401727</td>\n",
       "    </tr>\n",
       "    <tr>\n",
       "      <th>2</th>\n",
       "      <td>-1.376605</td>\n",
       "      <td>-0.161230</td>\n",
       "      <td>0.189689</td>\n",
       "      <td>-0.528662</td>\n",
       "    </tr>\n",
       "    <tr>\n",
       "      <th>3</th>\n",
       "      <td>-1.885288</td>\n",
       "      <td>-0.012351</td>\n",
       "      <td>-0.628873</td>\n",
       "      <td>-0.472893</td>\n",
       "    </tr>\n",
       "    <tr>\n",
       "      <th>4</th>\n",
       "      <td>-1.919981</td>\n",
       "      <td>0.817598</td>\n",
       "      <td>-0.701051</td>\n",
       "      <td>-0.196416</td>\n",
       "    </tr>\n",
       "    <tr>\n",
       "      <th>...</th>\n",
       "      <td>...</td>\n",
       "      <td>...</td>\n",
       "      <td>...</td>\n",
       "      <td>...</td>\n",
       "    </tr>\n",
       "    <tr>\n",
       "      <th>328</th>\n",
       "      <td>1.997716</td>\n",
       "      <td>-0.976771</td>\n",
       "      <td>0.379425</td>\n",
       "      <td>0.160892</td>\n",
       "    </tr>\n",
       "    <tr>\n",
       "      <th>329</th>\n",
       "      <td>1.832651</td>\n",
       "      <td>-0.784510</td>\n",
       "      <td>0.240758</td>\n",
       "      <td>-0.008955</td>\n",
       "    </tr>\n",
       "    <tr>\n",
       "      <th>330</th>\n",
       "      <td>2.751505</td>\n",
       "      <td>0.266556</td>\n",
       "      <td>-0.419306</td>\n",
       "      <td>0.236256</td>\n",
       "    </tr>\n",
       "    <tr>\n",
       "      <th>331</th>\n",
       "      <td>1.713854</td>\n",
       "      <td>-0.725875</td>\n",
       "      <td>-0.262764</td>\n",
       "      <td>0.330004</td>\n",
       "    </tr>\n",
       "    <tr>\n",
       "      <th>332</th>\n",
       "      <td>2.018537</td>\n",
       "      <td>0.336554</td>\n",
       "      <td>-0.155331</td>\n",
       "      <td>0.438802</td>\n",
       "    </tr>\n",
       "  </tbody>\n",
       "</table>\n",
       "<p>333 rows × 4 columns</p>\n",
       "</div>"
      ],
      "text/plain": [
       "          PC1       PC2       PC3       PC4\n",
       "0   -1.853593  0.032069 -0.234902  0.528397\n",
       "1   -1.316254 -0.443527 -0.027470  0.401727\n",
       "2   -1.376605 -0.161230  0.189689 -0.528662\n",
       "3   -1.885288 -0.012351 -0.628873 -0.472893\n",
       "4   -1.919981  0.817598 -0.701051 -0.196416\n",
       "..        ...       ...       ...       ...\n",
       "328  1.997716 -0.976771  0.379425  0.160892\n",
       "329  1.832651 -0.784510  0.240758 -0.008955\n",
       "330  2.751505  0.266556 -0.419306  0.236256\n",
       "331  1.713854 -0.725875 -0.262764  0.330004\n",
       "332  2.018537  0.336554 -0.155331  0.438802\n",
       "\n",
       "[333 rows x 4 columns]"
      ]
     },
     "execution_count": 14,
     "metadata": {},
     "output_type": "execute_result"
    }
   ],
   "source": [
    "pca_data = pca.transform(scaled_X)\n",
    "pca_df = pd.DataFrame(pca_data, columns = labels)\n",
    "pca_df"
   ]
  },
  {
   "cell_type": "code",
   "execution_count": 15,
   "metadata": {
    "ExecuteTime": {
     "end_time": "2022-04-20T15:06:49.754161Z",
     "start_time": "2022-04-20T15:06:49.736474Z"
    }
   },
   "outputs": [
    {
     "data": {
      "text/html": [
       "<div>\n",
       "<style scoped>\n",
       "    .dataframe tbody tr th:only-of-type {\n",
       "        vertical-align: middle;\n",
       "    }\n",
       "\n",
       "    .dataframe tbody tr th {\n",
       "        vertical-align: top;\n",
       "    }\n",
       "\n",
       "    .dataframe thead th {\n",
       "        text-align: right;\n",
       "    }\n",
       "</style>\n",
       "<table border=\"1\" class=\"dataframe\">\n",
       "  <thead>\n",
       "    <tr style=\"text-align: right;\">\n",
       "      <th></th>\n",
       "      <th>PC1</th>\n",
       "      <th>PC2</th>\n",
       "      <th>PC3</th>\n",
       "      <th>PC4</th>\n",
       "      <th>species</th>\n",
       "    </tr>\n",
       "  </thead>\n",
       "  <tbody>\n",
       "    <tr>\n",
       "      <th>0</th>\n",
       "      <td>-1.853593</td>\n",
       "      <td>0.032069</td>\n",
       "      <td>-0.234902</td>\n",
       "      <td>0.528397</td>\n",
       "      <td>Adelie</td>\n",
       "    </tr>\n",
       "    <tr>\n",
       "      <th>1</th>\n",
       "      <td>-1.316254</td>\n",
       "      <td>-0.443527</td>\n",
       "      <td>-0.027470</td>\n",
       "      <td>0.401727</td>\n",
       "      <td>Adelie</td>\n",
       "    </tr>\n",
       "    <tr>\n",
       "      <th>2</th>\n",
       "      <td>-1.376605</td>\n",
       "      <td>-0.161230</td>\n",
       "      <td>0.189689</td>\n",
       "      <td>-0.528662</td>\n",
       "      <td>Adelie</td>\n",
       "    </tr>\n",
       "    <tr>\n",
       "      <th>3</th>\n",
       "      <td>-1.885288</td>\n",
       "      <td>-0.012351</td>\n",
       "      <td>-0.628873</td>\n",
       "      <td>-0.472893</td>\n",
       "      <td>NaN</td>\n",
       "    </tr>\n",
       "    <tr>\n",
       "      <th>4</th>\n",
       "      <td>-1.919981</td>\n",
       "      <td>0.817598</td>\n",
       "      <td>-0.701051</td>\n",
       "      <td>-0.196416</td>\n",
       "      <td>Adelie</td>\n",
       "    </tr>\n",
       "    <tr>\n",
       "      <th>...</th>\n",
       "      <td>...</td>\n",
       "      <td>...</td>\n",
       "      <td>...</td>\n",
       "      <td>...</td>\n",
       "      <td>...</td>\n",
       "    </tr>\n",
       "    <tr>\n",
       "      <th>338</th>\n",
       "      <td>NaN</td>\n",
       "      <td>NaN</td>\n",
       "      <td>NaN</td>\n",
       "      <td>NaN</td>\n",
       "      <td>Gentoo</td>\n",
       "    </tr>\n",
       "    <tr>\n",
       "      <th>340</th>\n",
       "      <td>NaN</td>\n",
       "      <td>NaN</td>\n",
       "      <td>NaN</td>\n",
       "      <td>NaN</td>\n",
       "      <td>Gentoo</td>\n",
       "    </tr>\n",
       "    <tr>\n",
       "      <th>341</th>\n",
       "      <td>NaN</td>\n",
       "      <td>NaN</td>\n",
       "      <td>NaN</td>\n",
       "      <td>NaN</td>\n",
       "      <td>Gentoo</td>\n",
       "    </tr>\n",
       "    <tr>\n",
       "      <th>342</th>\n",
       "      <td>NaN</td>\n",
       "      <td>NaN</td>\n",
       "      <td>NaN</td>\n",
       "      <td>NaN</td>\n",
       "      <td>Gentoo</td>\n",
       "    </tr>\n",
       "    <tr>\n",
       "      <th>343</th>\n",
       "      <td>NaN</td>\n",
       "      <td>NaN</td>\n",
       "      <td>NaN</td>\n",
       "      <td>NaN</td>\n",
       "      <td>Gentoo</td>\n",
       "    </tr>\n",
       "  </tbody>\n",
       "</table>\n",
       "<p>342 rows × 5 columns</p>\n",
       "</div>"
      ],
      "text/plain": [
       "          PC1       PC2       PC3       PC4 species\n",
       "0   -1.853593  0.032069 -0.234902  0.528397  Adelie\n",
       "1   -1.316254 -0.443527 -0.027470  0.401727  Adelie\n",
       "2   -1.376605 -0.161230  0.189689 -0.528662  Adelie\n",
       "3   -1.885288 -0.012351 -0.628873 -0.472893     NaN\n",
       "4   -1.919981  0.817598 -0.701051 -0.196416  Adelie\n",
       "..        ...       ...       ...       ...     ...\n",
       "338       NaN       NaN       NaN       NaN  Gentoo\n",
       "340       NaN       NaN       NaN       NaN  Gentoo\n",
       "341       NaN       NaN       NaN       NaN  Gentoo\n",
       "342       NaN       NaN       NaN       NaN  Gentoo\n",
       "343       NaN       NaN       NaN       NaN  Gentoo\n",
       "\n",
       "[342 rows x 5 columns]"
      ]
     },
     "execution_count": 15,
     "metadata": {},
     "output_type": "execute_result"
    }
   ],
   "source": [
    "projected_df = pd.concat([pca_df, df.species], axis = 1)\n",
    "projected_df"
   ]
  },
  {
   "cell_type": "code",
   "execution_count": 16,
   "metadata": {
    "ExecuteTime": {
     "end_time": "2022-04-20T15:08:39.057479Z",
     "start_time": "2022-04-20T15:08:38.830712Z"
    }
   },
   "outputs": [
    {
     "data": {
      "image/png": "[encoded data removed]",
      "text/plain": [
       "<Figure size 720x576 with 1 Axes>"
      ]
     },
     "metadata": {},
     "output_type": "display_data"
    }
   ],
   "source": [
    "targets = [\"Adelie\", \"Chinstrap\", \"Gentoo\"]\n",
    "colors = [\"blue\", \"red\", \"yellow\"]\n",
    "\n",
    "plt.figure(figsize = (10, 8))\n",
    "\n",
    "for target, color in zip(targets, colors):\n",
    "    temp_df = projected_df[projected_df['species'] == target]\n",
    "    plt.scatter(temp_df[\"PC1\"],\n",
    "                temp_df[\"PC2\"],\n",
    "                c = color)\n",
    "    \n",
    "plt.xlabel('PC1', fontsize = 15)\n",
    "plt.ylabel('PC2', fontsize = 15)\n",
    "plt.title('Two-component PCA', fontsize = 18)\n",
    "plt.legend(targets)\n",
    "plt.show()"
   ]
  },
  {
   "cell_type": "code",
   "execution_count": null,
   "metadata": {},
   "outputs": [],
   "source": []
  },
  {
   "cell_type": "code",
   "execution_count": null,
   "metadata": {},
   "outputs": [],
   "source": []
  }
 ],
 "metadata": {
  "kernelspec": {
   "display_name": "Python 3",
   "language": "python",
   "name": "python3"
  },
  "language_info": {
   "codemirror_mode": {
    "name": "ipython",
    "version": 3
   },
   "file_extension": ".py",
   "mimetype": "text/x-python",
   "name": "python",
   "nbconvert_exporter": "python",
   "pygments_lexer": "ipython3",
   "version": "3.6.6"
  },
  "toc": {
   "base_numbering": 1,
   "nav_menu": {},
   "number_sections": true,
   "sideBar": true,
   "skip_h1_title": false,
   "title_cell": "Table of Contents",
   "title_sidebar": "Contents",
   "toc_cell": false,
   "toc_position": {},
   "toc_section_display": true,
   "toc_window_display": false
  },
  "varInspector": {
   "cols": {
    "lenName": 16,
    "lenType": 16,
    "lenVar": 40
   },
   "kernels_config": {
    "python": {
     "delete_cmd_postfix": "",
     "delete_cmd_prefix": "del ",
     "library": "var_list.py",
     "varRefreshCmd": "print(var_dic_list())"
    },
    "r": {
     "delete_cmd_postfix": ") ",
     "delete_cmd_prefix": "rm(",
     "library": "var_list.r",
     "varRefreshCmd": "cat(var_dic_list()) "
    }
   },
   "types_to_exclude": [
    "module",
    "function",
    "builtin_function_or_method",
    "instance",
    "_Feature"
   ],
   "window_display": false
  }
 },
 "nbformat": 4,
 "nbformat_minor": 2
}
